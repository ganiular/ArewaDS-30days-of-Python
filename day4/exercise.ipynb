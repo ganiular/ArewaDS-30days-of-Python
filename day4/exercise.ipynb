{
 "cells": [
  {
   "cell_type": "markdown",
   "metadata": {},
   "source": [
    "# Exercises - Day 4"
   ]
  },
  {
   "cell_type": "markdown",
   "metadata": {},
   "source": [
    "1. Concatenate the string 'Thirty', 'Days', 'Of', 'Python' to a single string, 'Thirty Days Of Python'."
   ]
  },
  {
   "cell_type": "code",
   "execution_count": 7,
   "metadata": {},
   "outputs": [
    {
     "data": {
      "text/plain": [
       "'Thirty Days Of Python'"
      ]
     },
     "execution_count": 7,
     "metadata": {},
     "output_type": "execute_result"
    }
   ],
   "source": [
    "'Thirty' + ' ' + 'Days' +' '+ 'Of' +' '+ 'Python'"
   ]
  },
  {
   "cell_type": "markdown",
   "metadata": {},
   "source": [
    "2. Concatenate the string 'Coding', 'For' , 'All' to a single string, 'Coding For All'."
   ]
  },
  {
   "cell_type": "code",
   "execution_count": 8,
   "metadata": {},
   "outputs": [
    {
     "data": {
      "text/plain": [
       "'Coding For All'"
      ]
     },
     "execution_count": 8,
     "metadata": {},
     "output_type": "execute_result"
    }
   ],
   "source": [
    "'Coding' +' '+ 'For' +' '+ 'All'"
   ]
  },
  {
   "cell_type": "markdown",
   "metadata": {},
   "source": [
    "3. Declare a variable named company and assign it to an initial value \"Coding For All\"."
   ]
  },
  {
   "cell_type": "code",
   "execution_count": 9,
   "metadata": {},
   "outputs": [],
   "source": [
    "company = \"Coding For All\""
   ]
  },
  {
   "cell_type": "markdown",
   "metadata": {},
   "source": [
    "4. Print the variable company using print()."
   ]
  },
  {
   "cell_type": "code",
   "execution_count": 10,
   "metadata": {},
   "outputs": [
    {
     "name": "stdout",
     "output_type": "stream",
     "text": [
      "Coding For All\n"
     ]
    }
   ],
   "source": [
    "print(company)"
   ]
  },
  {
   "cell_type": "markdown",
   "metadata": {},
   "source": [
    "5. Print the length of the company string using len() method and print().\n"
   ]
  },
  {
   "cell_type": "code",
   "execution_count": 11,
   "metadata": {},
   "outputs": [
    {
     "name": "stdout",
     "output_type": "stream",
     "text": [
      "Let of company string: 14\n"
     ]
    }
   ],
   "source": [
    "print(\"Let of company string:\",len(company))"
   ]
  },
  {
   "cell_type": "markdown",
   "metadata": {},
   "source": [
    "6. Change all the characters to uppercase letters using upper() method.\n"
   ]
  },
  {
   "cell_type": "code",
   "execution_count": 12,
   "metadata": {},
   "outputs": [
    {
     "data": {
      "text/plain": [
       "'CODING FOR ALL'"
      ]
     },
     "execution_count": 12,
     "metadata": {},
     "output_type": "execute_result"
    }
   ],
   "source": [
    "company.upper()"
   ]
  },
  {
   "cell_type": "markdown",
   "metadata": {},
   "source": [
    "7. Change all the characters to lowercase letters using lower() method."
   ]
  },
  {
   "cell_type": "code",
   "execution_count": 13,
   "metadata": {},
   "outputs": [
    {
     "data": {
      "text/plain": [
       "'coding for all'"
      ]
     },
     "execution_count": 13,
     "metadata": {},
     "output_type": "execute_result"
    }
   ],
   "source": [
    "company.lower()"
   ]
  },
  {
   "cell_type": "markdown",
   "metadata": {},
   "source": [
    "8. Use capitalize(), title(), swapcase() methods to format the value of the string Coding For All.\n"
   ]
  },
  {
   "cell_type": "code",
   "execution_count": 14,
   "metadata": {},
   "outputs": [
    {
     "name": "stdout",
     "output_type": "stream",
     "text": [
      "Capitalize: Coding for all\n",
      "Title: Coding For All\n",
      "Swapcase: cODING fOR aLL\n"
     ]
    }
   ],
   "source": [
    "print(\"Capitalize:\",  company.capitalize())\n",
    "print(\"Title:\",  company.title())\n",
    "print(\"Swapcase:\",  company.swapcase())"
   ]
  },
  {
   "cell_type": "markdown",
   "metadata": {},
   "source": [
    "9. Cut(slice) out the first word of Coding For All string.\n"
   ]
  },
  {
   "cell_type": "code",
   "execution_count": 17,
   "metadata": {},
   "outputs": [
    {
     "name": "stdout",
     "output_type": "stream",
     "text": [
      " For All\n"
     ]
    }
   ],
   "source": [
    "company = company[6:]\n",
    "print(company)"
   ]
  },
  {
   "cell_type": "markdown",
   "metadata": {},
   "source": [
    "10. Check if Coding For All string contains a word Coding using the method index, find or other methods.\n"
   ]
  },
  {
   "cell_type": "code",
   "execution_count": 20,
   "metadata": {},
   "outputs": [
    {
     "name": "stdout",
     "output_type": "stream",
     "text": [
      "Coding exists: False\n"
     ]
    }
   ],
   "source": [
    "itExists = company.find(\"Coding\") > -1\n",
    "print(\"Coding exists:\", itExists)"
   ]
  },
  {
   "cell_type": "markdown",
   "metadata": {},
   "source": [
    "11. Replace the word coding in the string 'Coding For All' to Python."
   ]
  },
  {
   "cell_type": "code",
   "execution_count": 23,
   "metadata": {},
   "outputs": [
    {
     "name": "stdout",
     "output_type": "stream",
     "text": [
      "Python For All\n"
     ]
    }
   ],
   "source": [
    "company = \"Coding For All\"\n",
    "replaced = company.replace('Coding', 'Python')\n",
    "print(replaced)"
   ]
  },
  {
   "cell_type": "markdown",
   "metadata": {},
   "source": [
    "12. Change Python for Everyone to Python for All using the replace method or other methods"
   ]
  },
  {
   "cell_type": "code",
   "execution_count": 24,
   "metadata": {},
   "outputs": [
    {
     "name": "stdout",
     "output_type": "stream",
     "text": [
      "Python for All\n"
     ]
    }
   ],
   "source": [
    "st = \"Python for Everyone\"\n",
    "st = st.replace(\"Everyone\", \"All\")\n",
    "print(st)"
   ]
  },
  {
   "cell_type": "markdown",
   "metadata": {},
   "source": [
    "13. Split the string 'Coding For All' using space as the separator (split()) ."
   ]
  },
  {
   "cell_type": "code",
   "execution_count": 25,
   "metadata": {},
   "outputs": [
    {
     "data": {
      "text/plain": [
       "['Coding', 'For', 'All']"
      ]
     },
     "execution_count": 25,
     "metadata": {},
     "output_type": "execute_result"
    }
   ],
   "source": [
    "comapany = \"Coding For All\"\n",
    "company.split(' ')"
   ]
  },
  {
   "cell_type": "markdown",
   "metadata": {},
   "source": [
    "14. \"Facebook, Google, Microsoft, Apple, IBM, Oracle, Amazon\" split the string at the comma."
   ]
  },
  {
   "cell_type": "code",
   "execution_count": 26,
   "metadata": {},
   "outputs": [
    {
     "data": {
      "text/plain": [
       "['Facebook', ' Google', ' Microsoft', ' Apple', ' IBM', ' Oracle', ' Amazon']"
      ]
     },
     "execution_count": 26,
     "metadata": {},
     "output_type": "execute_result"
    }
   ],
   "source": [
    "st = \"Facebook, Google, Microsoft, Apple, IBM, Oracle, Amazon\"\n",
    "st.split(',')"
   ]
  },
  {
   "cell_type": "markdown",
   "metadata": {},
   "source": [
    "15. What is the character at index 0 in the string Coding For All."
   ]
  },
  {
   "cell_type": "code",
   "execution_count": 27,
   "metadata": {},
   "outputs": [
    {
     "data": {
      "text/plain": [
       "'C'"
      ]
     },
     "execution_count": 27,
     "metadata": {},
     "output_type": "execute_result"
    }
   ],
   "source": [
    "st = \"Coding For All\"\n",
    "st[0]"
   ]
  },
  {
   "cell_type": "markdown",
   "metadata": {},
   "source": [
    "16. What is the last index of the string Coding For All."
   ]
  },
  {
   "cell_type": "code",
   "execution_count": 28,
   "metadata": {},
   "outputs": [
    {
     "data": {
      "text/plain": [
       "'l'"
      ]
     },
     "execution_count": 28,
     "metadata": {},
     "output_type": "execute_result"
    }
   ],
   "source": [
    "st[-1]"
   ]
  },
  {
   "cell_type": "markdown",
   "metadata": {},
   "source": [
    "17. What character is at index 10 in \"Coding For All\" string.\n"
   ]
  },
  {
   "cell_type": "code",
   "execution_count": 29,
   "metadata": {},
   "outputs": [
    {
     "data": {
      "text/plain": [
       "' '"
      ]
     },
     "execution_count": 29,
     "metadata": {},
     "output_type": "execute_result"
    }
   ],
   "source": [
    "st[10]"
   ]
  },
  {
   "cell_type": "markdown",
   "metadata": {},
   "source": [
    "18. Create an acronym or an abbreviation for the name 'Python For Everyone'."
   ]
  },
  {
   "cell_type": "code",
   "execution_count": 30,
   "metadata": {},
   "outputs": [
    {
     "data": {
      "text/plain": [
       "'PFE'"
      ]
     },
     "execution_count": 30,
     "metadata": {},
     "output_type": "execute_result"
    }
   ],
   "source": [
    "st = 'Python For Everyone'\n",
    "acr = st[0] + st[7] + st[11]\n",
    "acr"
   ]
  },
  {
   "cell_type": "code",
   "execution_count": 32,
   "metadata": {},
   "outputs": [
    {
     "data": {
      "text/plain": [
       "'CFA'"
      ]
     },
     "execution_count": 32,
     "metadata": {},
     "output_type": "execute_result"
    }
   ],
   "source": [
    "st = \"Coding For All\"\n",
    "acr = st[0] + st[7] + st[11]\n",
    "acr"
   ]
  },
  {
   "cell_type": "markdown",
   "metadata": {},
   "source": [
    "19. Create an acronym or an abbreviation for the name 'Coding For All'."
   ]
  },
  {
   "cell_type": "markdown",
   "metadata": {},
   "source": []
  },
  {
   "cell_type": "markdown",
   "metadata": {},
   "source": [
    "20. Use index to determine the position of the first occurrence of C in Coding For All.\n"
   ]
  },
  {
   "cell_type": "code",
   "execution_count": 33,
   "metadata": {},
   "outputs": [
    {
     "name": "stdout",
     "output_type": "stream",
     "text": [
      "The position C in Coding For ALL is at: 0\n"
     ]
    }
   ],
   "source": [
    "st = \"Coding For ALL\"\n",
    "position = st.index('C')\n",
    "print(\"The position C in\", st, \"is at:\", position)"
   ]
  },
  {
   "cell_type": "markdown",
   "metadata": {},
   "source": [
    "21. Use index to determine the position of the first occurrence of F in Coding For All."
   ]
  },
  {
   "cell_type": "code",
   "execution_count": 34,
   "metadata": {},
   "outputs": [
    {
     "name": "stdout",
     "output_type": "stream",
     "text": [
      "The position F in Coding For ALL is at: 7\n"
     ]
    }
   ],
   "source": [
    "st = \"Coding For ALL\"\n",
    "position = st.index('F')\n",
    "print(\"The position F in\", st, \"is at:\", position)"
   ]
  },
  {
   "cell_type": "markdown",
   "metadata": {},
   "source": [
    "22. Use rfind to determine the position of the last occurrence of l in Coding For All People."
   ]
  },
  {
   "cell_type": "code",
   "execution_count": 35,
   "metadata": {},
   "outputs": [
    {
     "name": "stdout",
     "output_type": "stream",
     "text": [
      "The last position of l in Coding For ALL People is at: 19\n"
     ]
    }
   ],
   "source": [
    "st = \"Coding For ALL People\"\n",
    "position = st.rindex('l')\n",
    "print(\"The last position of l in\", st, \"is at:\", position)"
   ]
  },
  {
   "cell_type": "markdown",
   "metadata": {},
   "source": [
    "23. Use index or find to find the position of the first occurrence of the word 'because' in the following sentence: 'You cannot end a sentence with because because because is a conjunction'\n"
   ]
  },
  {
   "cell_type": "code",
   "execution_count": 36,
   "metadata": {},
   "outputs": [
    {
     "name": "stdout",
     "output_type": "stream",
     "text": [
      "The first position of becuase is at: 31\n",
      "The last position of becuase is at: 47\n"
     ]
    }
   ],
   "source": [
    "st = 'You cannot end a sentence with because because because is a conjunction'\n",
    "fpos = st.find('because')\n",
    "lpos = st.rfind('because')\n",
    "\n",
    "print(\"The first position of becuase is at:\", fpos)\n",
    "print(\"The last position of becuase is at:\", lpos)"
   ]
  },
  {
   "cell_type": "markdown",
   "metadata": {},
   "source": [
    "24. Use rindex to find the position of the last occurrence of the word because in the following sentence: 'You cannot end a sentence with because because because is a conjunction'"
   ]
  },
  {
   "cell_type": "code",
   "execution_count": 37,
   "metadata": {},
   "outputs": [
    {
     "name": "stdout",
     "output_type": "stream",
     "text": [
      "The last position of becuase is at: 47\n"
     ]
    }
   ],
   "source": [
    "st = 'You cannot end a sentence with because because because is a conjunction'\n",
    "lpos = st.rindex('because')\n",
    "\n",
    "print(\"The last position of becuase is at:\", lpos)"
   ]
  },
  {
   "cell_type": "markdown",
   "metadata": {},
   "source": [
    "25. Slice out the phrase 'because because because' in the following sentence: 'You cannot end a sentence with because because because is a conjunction'\n"
   ]
  },
  {
   "cell_type": "code",
   "execution_count": 38,
   "metadata": {},
   "outputs": [
    {
     "data": {
      "text/plain": [
       "['You cannot end a sentence with ', ' is a conjunction']"
      ]
     },
     "execution_count": 38,
     "metadata": {},
     "output_type": "execute_result"
    }
   ],
   "source": [
    "st = 'You cannot end a sentence with because because because is a conjunction'\n",
    "sw = st.split('because because because')\n",
    "\n",
    "sw"
   ]
  },
  {
   "cell_type": "markdown",
   "metadata": {},
   "source": [
    "26. Find the position of the first occurrence of the word 'because' in the following sentence: 'You cannot end a sentence with because because because is a conjunction'\n"
   ]
  },
  {
   "cell_type": "code",
   "execution_count": 40,
   "metadata": {},
   "outputs": [
    {
     "name": "stdout",
     "output_type": "stream",
     "text": [
      "The first posyion of because in the sentence is at: 31\n"
     ]
    }
   ],
   "source": [
    "st = 'You cannot end a sentence with because because because is a conjunction'\n",
    "position = st.find('because')\n",
    "\n",
    "print(\"The first posyion of because in the sentence is at:\", position)"
   ]
  },
  {
   "cell_type": "markdown",
   "metadata": {},
   "source": [
    "28. Does ''Coding For All' start with a substring Coding?"
   ]
  },
  {
   "cell_type": "code",
   "execution_count": 41,
   "metadata": {},
   "outputs": [
    {
     "name": "stdout",
     "output_type": "stream",
     "text": [
      "Start with Coding? True\n"
     ]
    }
   ],
   "source": [
    "st = \"Coding For All\"\n",
    "print(\"Start with Coding?\", st.startswith(\"Coding\"))"
   ]
  },
  {
   "cell_type": "markdown",
   "metadata": {},
   "source": [
    "29. Does 'Coding For All' end with a substring coding?\n"
   ]
  },
  {
   "cell_type": "code",
   "execution_count": 42,
   "metadata": {},
   "outputs": [
    {
     "name": "stdout",
     "output_type": "stream",
     "text": [
      "Ends with Coding? False\n"
     ]
    }
   ],
   "source": [
    "st = \"Coding For All\"\n",
    "print(\"Ends with Coding?\", st.endswith(\"Coding\"))"
   ]
  },
  {
   "cell_type": "markdown",
   "metadata": {},
   "source": [
    "30. '   Coding For All      '  , remove the left and right trailing spaces in the given string.\n"
   ]
  },
  {
   "cell_type": "code",
   "execution_count": 44,
   "metadata": {},
   "outputs": [
    {
     "name": "stdout",
     "output_type": "stream",
     "text": [
      "Remove trailing spaces:\n"
     ]
    },
    {
     "data": {
      "text/plain": [
       "'Coding For All'"
      ]
     },
     "execution_count": 44,
     "metadata": {},
     "output_type": "execute_result"
    }
   ],
   "source": [
    "st = '   Coding For All      '\n",
    "print(\"Remove trailing spaces:\")\n",
    "st.strip()"
   ]
  },
  {
   "cell_type": "markdown",
   "metadata": {},
   "source": [
    "31. Which one of the following variables return True when we use the method isidentifier():\n",
    "    - 30DaysOfPython\n",
    "    - thirty_days_of_python"
   ]
  },
  {
   "cell_type": "code",
   "execution_count": 45,
   "metadata": {},
   "outputs": [
    {
     "name": "stdout",
     "output_type": "stream",
     "text": [
      "Is 30DaysOfPython identifier? False\n",
      "Is thirty_days_of_python identifier? True\n"
     ]
    }
   ],
   "source": [
    "st1 = '30DaysOfPython'\n",
    "st2 = 'thirty_days_of_python'\n",
    "\n",
    "print(f'Is {st1} identifier?', st1.isidentifier())\n",
    "print(f'Is {st2} identifier?', st2.isidentifier())"
   ]
  },
  {
   "cell_type": "markdown",
   "metadata": {},
   "source": [
    "32"
   ]
  },
  {
   "cell_type": "code",
   "execution_count": 50,
   "metadata": {},
   "outputs": [
    {
     "data": {
      "text/plain": [
       "'Django Flask Bottle Pyramid Falcon'"
      ]
     },
     "execution_count": 50,
     "metadata": {},
     "output_type": "execute_result"
    }
   ],
   "source": [
    "' '.join(['Django', 'Flask', 'Bottle', 'Pyramid', 'Falcon'])"
   ]
  },
  {
   "cell_type": "markdown",
   "metadata": {},
   "source": [
    "33."
   ]
  },
  {
   "cell_type": "markdown",
   "metadata": {},
   "source": []
  },
  {
   "cell_type": "code",
   "execution_count": 51,
   "metadata": {},
   "outputs": [
    {
     "name": "stdout",
     "output_type": "stream",
     "text": [
      "I am enjoying this challenge.\n",
      "I just wonder what is next.\n"
     ]
    }
   ],
   "source": [
    "st = \"I am enjoying this challenge.\\nI just wonder what is next.\"\n",
    "print(st)"
   ]
  },
  {
   "cell_type": "markdown",
   "metadata": {},
   "source": [
    "34."
   ]
  },
  {
   "cell_type": "code",
   "execution_count": 53,
   "metadata": {},
   "outputs": [
    {
     "name": "stdout",
     "output_type": "stream",
     "text": [
      "Name      Age       Country   City\n",
      "Asabeneh  250       Finland   Helsinki\n"
     ]
    }
   ],
   "source": [
    "print('Name\\tAge\\tCountry\\tCity'.expandtabs(10))\n",
    "print('Asabeneh\\t250\\tFinland\\tHelsinki'.expandtabs(10))"
   ]
  },
  {
   "cell_type": "markdown",
   "metadata": {},
   "source": [
    "35. "
   ]
  },
  {
   "cell_type": "code",
   "execution_count": 54,
   "metadata": {},
   "outputs": [
    {
     "name": "stdout",
     "output_type": "stream",
     "text": [
      "The area of a circle with radius 10 is 314 meters square.\n"
     ]
    }
   ],
   "source": [
    "radius = 10\n",
    "area = 3.14 * radius ** 2\n",
    "print('The area of a circle with radius %d is %d meters square.' %(radius, area))"
   ]
  },
  {
   "cell_type": "markdown",
   "metadata": {},
   "source": [
    "36. "
   ]
  },
  {
   "cell_type": "code",
   "execution_count": 55,
   "metadata": {},
   "outputs": [
    {
     "name": "stdout",
     "output_type": "stream",
     "text": [
      "8 + 6 = 14\n",
      "8 - 6 = 2\n",
      "8 * 6 = 48\n",
      "8 / 6 = 1.33\n",
      "8 % 6 = 2\n",
      "8 // 6 = 1\n",
      "8 ** 6 = 262144\n"
     ]
    }
   ],
   "source": [
    "a = 8\n",
    "b = 6\n",
    "\n",
    "print('{} + {} = {}'.format(a, b, a + b))\n",
    "print('{} - {} = {}'.format(a, b, a - b))\n",
    "print('{} * {} = {}'.format(a, b, a * b))\n",
    "print('{} / {} = {:.2f}'.format(a, b, a / b)) \n",
    "print('{} % {} = {}'.format(a, b, a % b))\n",
    "print('{} // {} = {}'.format(a, b, a // b))\n",
    "print('{} ** {} = {}'.format(a, b, a ** b))"
   ]
  },
  {
   "cell_type": "markdown",
   "metadata": {},
   "source": []
  }
 ],
 "metadata": {
  "kernelspec": {
   "display_name": "arewa-ds",
   "language": "python",
   "name": "python3"
  },
  "language_info": {
   "codemirror_mode": {
    "name": "ipython",
    "version": 3
   },
   "file_extension": ".py",
   "mimetype": "text/x-python",
   "name": "python",
   "nbconvert_exporter": "python",
   "pygments_lexer": "ipython3",
   "version": "3.12.0"
  },
  "orig_nbformat": 4
 },
 "nbformat": 4,
 "nbformat_minor": 2
}
