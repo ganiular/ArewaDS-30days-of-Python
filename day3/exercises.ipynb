{
 "cells": [
  {
   "cell_type": "markdown",
   "metadata": {},
   "source": [
    "# Exercises - Day 3"
   ]
  },
  {
   "cell_type": "code",
   "execution_count": null,
   "metadata": {},
   "outputs": [],
   "source": [
    "age = 25"
   ]
  },
  {
   "cell_type": "code",
   "execution_count": null,
   "metadata": {},
   "outputs": [],
   "source": [
    "height = 11.3"
   ]
  },
  {
   "cell_type": "code",
   "execution_count": 1,
   "metadata": {},
   "outputs": [],
   "source": [
    "arc = (3 + 5j)"
   ]
  },
  {
   "cell_type": "code",
   "execution_count": null,
   "metadata": {},
   "outputs": [],
   "source": [
    "print(\"Area of a triangle\")\n",
    "base = input(\"Enter base: \")\n",
    "height = input(\"Enter height: \")\n",
    "area = 0.5 * base * height\n",
    "print(\"The area of the triangle is\", area)"
   ]
  },
  {
   "cell_type": "code",
   "execution_count": null,
   "metadata": {},
   "outputs": [],
   "source": [
    "print(\"Perimeter of a triangle\")\n",
    "side_a = input(\"Enter side a: \")\n",
    "side_b = input(\"Enter side b: \")\n",
    "side_c = input(\"Enter side c: \")\n",
    "perimeter = side_a + side_b + side_c\n",
    "print(\"The perimater of the triangle is\", perimeter)"
   ]
  },
  {
   "cell_type": "code",
   "execution_count": null,
   "metadata": {},
   "outputs": [],
   "source": [
    "print(\"Area and perimeter of a rectangle\")\n",
    "width = input(\"Enter width: \")\n",
    "length = input(\"Enter length: \")\n",
    "area = width * length\n",
    "perimeter = 2 * (length + width)\n",
    "print(\"The area of the rectangle is\", area)\n",
    "print(\"The perimater of the rectangle is\", perimeter)"
   ]
  },
  {
   "cell_type": "code",
   "execution_count": null,
   "metadata": {},
   "outputs": [],
   "source": [
    "print(\"Area and circumfrence of a circle\")\n",
    "radius = input(\"Enter radius: \")\n",
    "area = 3.14 * radius ** 2\n",
    "circumfrence = 2 * 3.14 * radius\n",
    "print(\"The area of the circle is\", area)\n",
    "print(\"The circumfrence of the circle is\",circumfrence)"
   ]
  },
  {
   "cell_type": "code",
   "execution_count": 2,
   "metadata": {},
   "outputs": [
    {
     "name": "stdout",
     "output_type": "stream",
     "text": [
      "Slope: 2\n",
      "X-Intercept: 1.0\n",
      "Y-Intercept: -2\n"
     ]
    }
   ],
   "source": [
    "# from y = mx + c where y = 2x - 2\n",
    "slope1 = 2           # m\n",
    "y_intercept = -2    # c\n",
    "x_intercept = - y_intercept / slope1 # -c/m\n",
    "\n",
    "print(\"Slope:\", slope1)\n",
    "print(\"X-Intercept:\", x_intercept)\n",
    "print(\"Y-Intercept:\", y_intercept)"
   ]
  },
  {
   "cell_type": "markdown",
   "metadata": {},
   "source": [
    "9. Slope is (m = y2-y1/x2-x1). Find the slope and Euclidean distance between point (2, 2) and point (6,10)"
   ]
  },
  {
   "cell_type": "code",
   "execution_count": null,
   "metadata": {},
   "outputs": [],
   "source": [
    "import math\n",
    "x1, y1 = 2, 2\n",
    "x2, y2 = 6, 10\n",
    "slope2 = (y2-y1) / (x2-x1)\n",
    "distance = math.sqrt((y2-y1)**2 + (x2-x1)**2)\n",
    "print(\"Slope:\", slope2)\n",
    "print(\"Distance:\", distance)"
   ]
  },
  {
   "cell_type": "code",
   "execution_count": null,
   "metadata": {},
   "outputs": [],
   "source": [
    "print(\"slope 1 == slope 2:\", slope1 == slope2)\n",
    "print(\"slope 1 > slope 2:\", slope1 > slope2)\n",
    "print(\"slope 1 < slope 2:\", slope1 < slope2)"
   ]
  },
  {
   "cell_type": "code",
   "execution_count": null,
   "metadata": {},
   "outputs": [],
   "source": []
  }
 ],
 "metadata": {
  "kernelspec": {
   "display_name": "arewa-ds",
   "language": "python",
   "name": "python3"
  },
  "language_info": {
   "codemirror_mode": {
    "name": "ipython",
    "version": 3
   },
   "file_extension": ".py",
   "mimetype": "text/x-python",
   "name": "python",
   "nbconvert_exporter": "python",
   "pygments_lexer": "ipython3",
   "version": "3.12.0"
  },
  "orig_nbformat": 4
 },
 "nbformat": 4,
 "nbformat_minor": 2
}
