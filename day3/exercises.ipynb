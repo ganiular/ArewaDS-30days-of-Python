{
 "cells": [
  {
   "cell_type": "markdown",
   "metadata": {},
   "source": [
    "# Exercises - Day 3"
   ]
  },
  {
   "cell_type": "code",
   "execution_count": 28,
   "metadata": {},
   "outputs": [],
   "source": [
    "age = 25"
   ]
  },
  {
   "cell_type": "code",
   "execution_count": 29,
   "metadata": {},
   "outputs": [],
   "source": [
    "height = 11.3"
   ]
  },
  {
   "cell_type": "code",
   "execution_count": 30,
   "metadata": {},
   "outputs": [],
   "source": [
    "arc = (3 + 5j)"
   ]
  },
  {
   "cell_type": "code",
   "execution_count": 31,
   "metadata": {},
   "outputs": [
    {
     "name": "stdout",
     "output_type": "stream",
     "text": [
      "Area of a triangle\n",
      "The area of the triangle is 6.0\n"
     ]
    }
   ],
   "source": [
    "print(\"Area of a triangle\")\n",
    "base = float(input(\"Enter base: \"))\n",
    "height = float(input(\"Enter height: \"))\n",
    "area = 0.5 * base * height\n",
    "print(\"The area of the triangle is\", area)"
   ]
  },
  {
   "cell_type": "code",
   "execution_count": 32,
   "metadata": {},
   "outputs": [
    {
     "name": "stdout",
     "output_type": "stream",
     "text": [
      "Perimeter of a triangle\n"
     ]
    },
    {
     "name": "stdout",
     "output_type": "stream",
     "text": [
      "The perimater of the triangle is 17.0\n"
     ]
    }
   ],
   "source": [
    "print(\"Perimeter of a triangle\")\n",
    "side_b = float(input(\"Enter side b: \"))\n",
    "side_a = float(input(\"Enter side a: \"))\n",
    "side_c = float(input(\"Enter side c: \"))\n",
    "perimeter = side_a + side_b + side_c\n",
    "print(\"The perimater of the triangle is\", perimeter)"
   ]
  },
  {
   "cell_type": "code",
   "execution_count": 33,
   "metadata": {},
   "outputs": [
    {
     "name": "stdout",
     "output_type": "stream",
     "text": [
      "Area and perimeter of a rectangle\n"
     ]
    },
    {
     "name": "stdout",
     "output_type": "stream",
     "text": [
      "The area of the rectangle is 15.0\n",
      "The perimater of the rectangle is 16.0\n"
     ]
    }
   ],
   "source": [
    "print(\"Area and perimeter of a rectangle\")\n",
    "width = float(input(\"Enter width: \"))\n",
    "length = float(input(\"Enter length: \"))\n",
    "area = width * length\n",
    "perimeter = 2 * (length + width)\n",
    "print(\"The area of the rectangle is\", area)\n",
    "print(\"The perimater of the rectangle is\", perimeter)"
   ]
  },
  {
   "cell_type": "code",
   "execution_count": 34,
   "metadata": {},
   "outputs": [
    {
     "name": "stdout",
     "output_type": "stream",
     "text": [
      "Area and circumfrence of a circle\n",
      "The area of the circle is 6358.5\n",
      "The circumfrence of the circle is 282.6\n"
     ]
    }
   ],
   "source": [
    "print(\"Area and circumfrence of a circle\")\n",
    "radius = float(input(\"Enter radius: \"))\n",
    "area = 3.14 * radius ** 2\n",
    "circumfrence = 2 * 3.14 * radius\n",
    "print(\"The area of the circle is\", area)\n",
    "print(\"The circumfrence of the circle is\",circumfrence)"
   ]
  },
  {
   "cell_type": "code",
   "execution_count": 35,
   "metadata": {},
   "outputs": [
    {
     "name": "stdout",
     "output_type": "stream",
     "text": [
      "Slope: 2\n",
      "X-Intercept: 1.0\n",
      "Y-Intercept: -2\n"
     ]
    }
   ],
   "source": [
    "# from y = mx + c where y = 2x - 2\n",
    "slope1 = 2           # m\n",
    "y_intercept = -2    # c\n",
    "x_intercept = - y_intercept / slope1 # -c/m\n",
    "\n",
    "print(\"Slope:\", slope1)\n",
    "print(\"X-Intercept:\", x_intercept)\n",
    "print(\"Y-Intercept:\", y_intercept)"
   ]
  },
  {
   "cell_type": "markdown",
   "metadata": {},
   "source": [
    "9. Slope is (m = y2-y1/x2-x1). Find the slope and Euclidean distance between point (2, 2) and point (6,10)"
   ]
  },
  {
   "cell_type": "code",
   "execution_count": 36,
   "metadata": {},
   "outputs": [
    {
     "name": "stdout",
     "output_type": "stream",
     "text": [
      "Slope: 2.0\n",
      "Distance: 8.94427190999916\n"
     ]
    }
   ],
   "source": [
    "import math\n",
    "x1, y1 = 2, 2\n",
    "x2, y2 = 6, 10\n",
    "slope2 = (y2-y1) / (x2-x1)\n",
    "distance = math.sqrt((y2-y1)**2 + (x2-x1)**2)\n",
    "print(\"Slope:\", slope2)\n",
    "print(\"Distance:\", distance)"
   ]
  },
  {
   "cell_type": "markdown",
   "metadata": {},
   "source": [
    "10. Compare the slopes in tasks 8 and 9."
   ]
  },
  {
   "cell_type": "code",
   "execution_count": 37,
   "metadata": {},
   "outputs": [
    {
     "name": "stdout",
     "output_type": "stream",
     "text": [
      "slope 1 == slope 2: True\n",
      "slope 1 > slope 2: False\n",
      "slope 1 < slope 2: False\n"
     ]
    }
   ],
   "source": [
    "print(\"slope 1 == slope 2:\", slope1 == slope2)\n",
    "print(\"slope 1 > slope 2:\", slope1 > slope2)\n",
    "print(\"slope 1 < slope 2:\", slope1 < slope2)"
   ]
  },
  {
   "cell_type": "markdown",
   "metadata": {},
   "source": [
    "11. Calculate the value of y (y = x^2 + 6x + 9). Try to use different x values and figure out at what x value y is going to be 0."
   ]
  },
  {
   "cell_type": "code",
   "execution_count": 38,
   "metadata": {},
   "outputs": [
    {
     "name": "stdout",
     "output_type": "stream",
     "text": [
      "when x is: -3\n",
      "y is: 0\n"
     ]
    }
   ],
   "source": [
    "x = -3\n",
    "y = x ** 2 + 6 * x + 9\n",
    "print(\"when x is:\", x)\n",
    "print(\"y is:\", y)"
   ]
  },
  {
   "cell_type": "markdown",
   "metadata": {},
   "source": [
    "12. Find the length of 'python' and 'dragon' and make a falsy comparison statement."
   ]
  },
  {
   "cell_type": "code",
   "execution_count": 39,
   "metadata": {},
   "outputs": [
    {
     "name": "stdout",
     "output_type": "stream",
     "text": [
      "Length of 'python' and 'dragon' are not equal: False\n"
     ]
    }
   ],
   "source": [
    "len1 = len('python')\n",
    "len2 = len('dragon')\n",
    "\n",
    "print(\"Length of 'python' and 'dragon' are not equal:\", len1 != len2)"
   ]
  },
  {
   "cell_type": "markdown",
   "metadata": {},
   "source": [
    "13. Use and operator to check if 'on' is found in both 'python' and 'dragon'"
   ]
  },
  {
   "cell_type": "code",
   "execution_count": 40,
   "metadata": {},
   "outputs": [
    {
     "name": "stdout",
     "output_type": "stream",
     "text": [
      "'on' found in both 'python' and 'dragon': True\n"
     ]
    }
   ],
   "source": [
    "found = 'python'.find('on') > -1 and 'dragon'.find('on') > -1\n",
    "print(\"'on' found in both 'python' and 'dragon':\", found)"
   ]
  },
  {
   "cell_type": "markdown",
   "metadata": {},
   "source": [
    "14. I hope this course is not full of jargon. Use in operator to check if jargon is in the sentence."
   ]
  },
  {
   "cell_type": "code",
   "execution_count": 41,
   "metadata": {},
   "outputs": [
    {
     "data": {
      "text/plain": [
       "True"
      ]
     },
     "execution_count": 41,
     "metadata": {},
     "output_type": "execute_result"
    }
   ],
   "source": [
    "s = 'I hope this course is not full of jargon'\n",
    "found = 'jargon' in s\n",
    "found"
   ]
  },
  {
   "cell_type": "markdown",
   "metadata": {},
   "source": [
    "15. There is no 'on' in both dragon and python"
   ]
  },
  {
   "cell_type": "code",
   "execution_count": 42,
   "metadata": {},
   "outputs": [
    {
     "data": {
      "text/plain": [
       "False"
      ]
     },
     "execution_count": 42,
     "metadata": {},
     "output_type": "execute_result"
    }
   ],
   "source": [
    "found = 'python'.find('on') == -1 and 'dragon'.find('on') == -1\n",
    "found"
   ]
  },
  {
   "cell_type": "markdown",
   "metadata": {},
   "source": [
    "16. Find the length of the text python and convert the value to float and convert it to string"
   ]
  },
  {
   "cell_type": "code",
   "execution_count": 43,
   "metadata": {},
   "outputs": [
    {
     "name": "stdout",
     "output_type": "stream",
     "text": [
      "length of 'python': 6\n",
      "convert to float: 6.0\n",
      "convert float to string: 6.0\n"
     ]
    }
   ],
   "source": [
    "l = len('python')\n",
    "f = float(l)\n",
    "s = str(f)\n",
    "\n",
    "print(\"length of 'python':\", l)\n",
    "print(\"convert to float:\", f)\n",
    "print(\"convert float to string:\", s)"
   ]
  },
  {
   "cell_type": "markdown",
   "metadata": {},
   "source": [
    "17.Even numbers are divisible by 2 and the remainder is zero. How do you check if a number is even or not using python?"
   ]
  },
  {
   "cell_type": "code",
   "execution_count": 44,
   "metadata": {},
   "outputs": [
    {
     "name": "stdout",
     "output_type": "stream",
     "text": [
      "3 is even: False\n"
     ]
    }
   ],
   "source": [
    "number = 3\n",
    "isEven = number % 2 == 0\n",
    "print(number, \"is even:\", isEven)"
   ]
  },
  {
   "cell_type": "markdown",
   "metadata": {},
   "source": [
    "18. Check if the floor division of 7 by 3 is equal to the int converted value of 2.7.\n"
   ]
  },
  {
   "cell_type": "code",
   "execution_count": 45,
   "metadata": {},
   "outputs": [
    {
     "data": {
      "text/plain": [
       "True"
      ]
     },
     "execution_count": 45,
     "metadata": {},
     "output_type": "execute_result"
    }
   ],
   "source": [
    "floor_div = 7 // 3\n",
    "int_conv = int(2.7)\n",
    "\n",
    "floor_div == int_conv"
   ]
  },
  {
   "cell_type": "markdown",
   "metadata": {},
   "source": [
    "19. Check if type of '10' is equal to type of 10\n"
   ]
  },
  {
   "cell_type": "code",
   "execution_count": 46,
   "metadata": {},
   "outputs": [
    {
     "data": {
      "text/plain": [
       "False"
      ]
     },
     "execution_count": 46,
     "metadata": {},
     "output_type": "execute_result"
    }
   ],
   "source": [
    "'10' == 10"
   ]
  },
  {
   "cell_type": "markdown",
   "metadata": {},
   "source": [
    "20. Check if int('9.8') is equal to 10\n"
   ]
  },
  {
   "cell_type": "code",
   "execution_count": 47,
   "metadata": {},
   "outputs": [
    {
     "data": {
      "text/plain": [
       "False"
      ]
     },
     "execution_count": 47,
     "metadata": {},
     "output_type": "execute_result"
    }
   ],
   "source": [
    "int(float('9.8')) == 10"
   ]
  },
  {
   "cell_type": "markdown",
   "metadata": {},
   "source": [
    "21. Writ a script that prompts the user to enter hours and rate per hour. Calculate pay of the person?\n"
   ]
  },
  {
   "cell_type": "code",
   "execution_count": 48,
   "metadata": {},
   "outputs": [
    {
     "name": "stdout",
     "output_type": "stream",
     "text": [
      "Your weekly earning is: 1802\n"
     ]
    }
   ],
   "source": [
    "hour = int(input(\"Enter hour: \"))\n",
    "rate = int(input(\"Enter rate par hour: \"))\n",
    "print(\"Your weekly earning is:\", hour * rate)"
   ]
  },
  {
   "cell_type": "markdown",
   "metadata": {},
   "source": [
    "22. Write a script that prompts the user to enter number of years. Calculate the number of seconds a person can live. Assume a person can live hundred years"
   ]
  },
  {
   "cell_type": "code",
   "execution_count": 49,
   "metadata": {},
   "outputs": [
    {
     "name": "stdout",
     "output_type": "stream",
     "text": [
      "You have lived for 157680000 seconds\n"
     ]
    }
   ],
   "source": [
    "year = int(input('Enter number of years you have lived: '))\n",
    "seconds = year * 365 * 24 * 60 * 60\n",
    "print(\"You have lived for\", seconds, \"seconds\")"
   ]
  },
  {
   "cell_type": "markdown",
   "metadata": {},
   "source": [
    "23. Write a Python script that displays the following table\n",
    "\n",
    "```1 1 1 1 1\n",
    "2 1 2 4 8\n",
    "3 1 3 9 27\n",
    "4 1 4 16 64\n",
    "5 1 5 25 125\n",
    "    "
   ]
  },
  {
   "cell_type": "code",
   "execution_count": 50,
   "metadata": {},
   "outputs": [
    {
     "name": "stdout",
     "output_type": "stream",
     "text": [
      "1 1 1 1 1\n",
      "2 1 2 4 8\n",
      "3 1 3 9 27\n",
      "4 1 4 16 64\n",
      "5 1 5 25 125\n"
     ]
    }
   ],
   "source": [
    "print(\"\"\"1 1 1 1 1\n",
    "2 1 2 4 8\n",
    "3 1 3 9 27\n",
    "4 1 4 16 64\n",
    "5 1 5 25 125\"\"\")"
   ]
  },
  {
   "cell_type": "markdown",
   "metadata": {},
   "source": [
    "\n"
   ]
  }
 ],
 "metadata": {
  "kernelspec": {
   "display_name": "arewa-ds",
   "language": "python",
   "name": "python3"
  },
  "language_info": {
   "codemirror_mode": {
    "name": "ipython",
    "version": 3
   },
   "file_extension": ".py",
   "mimetype": "text/x-python",
   "name": "python",
   "nbconvert_exporter": "python",
   "pygments_lexer": "ipython3",
   "version": "3.12.0"
  },
  "orig_nbformat": 4
 },
 "nbformat": 4,
 "nbformat_minor": 2
}
